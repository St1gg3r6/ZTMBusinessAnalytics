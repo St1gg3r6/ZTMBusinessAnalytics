{
 "cells": [
  {
   "cell_type": "markdown",
   "id": "acb180fe-c60b-4838-93e7-de74832a6790",
   "metadata": {},
   "source": [
    "# Build a P-Value Interpreter Function with ChatGPT"
   ]
  },
  {
   "cell_type": "code",
   "execution_count": 1,
   "id": "9e7cd7e4-1df2-4e91-805c-01df6dccfbba",
   "metadata": {},
   "outputs": [
    {
     "name": "stdout",
     "output_type": "stream",
     "text": [
      "p-value (0.03) is less than the threshold (0.05).\n",
      "Evidence suggests rejecting the null hypothesis.\n"
     ]
    }
   ],
   "source": [
    "def interpret_p_value(p_value, threshold=0.05):\n",
    "    \"\"\"\n",
    "    Interpret the p-value in a statistical context against a specific threshold.\n",
    "\n",
    "    Parameters:\n",
    "    p_value (float): The p-value to interpret, expected to be in the range 0 to 1.\n",
    "    threshold (float): The significance level threshold, default is 0.05.\n",
    "\n",
    "    Returns:\n",
    "    None: Prints the interpretation of the p-value.\n",
    "\n",
    "    Raises:\n",
    "    ValueError: If the p_value or threshold is not within the range [0, 1].\n",
    "\n",
    "    Description:\n",
    "    This function assesses the provided p-value against a given threshold:\n",
    "    - p < threshold: Evidence suggests rejecting the null hypothesis.\n",
    "    - p >= threshold: Not enough evidence to reject the null hypothesis.\n",
    "\n",
    "    It's important to note that the interpretation of p-values is context-dependent\n",
    "    and should be considered along with other factors in statistical analysis.\n",
    "    \"\"\"\n",
    "    if not (0 <= p_value <= 1):\n",
    "        raise ValueError(\"p_value must be between 0 and 1.\")\n",
    "    if not (0 <= threshold <= 1):\n",
    "        raise ValueError(\"threshold must be between 0 and 1.\")\n",
    "\n",
    "    if p_value < threshold:\n",
    "        print(f\"p-value ({p_value}) is less than the threshold ({threshold}).\")\n",
    "        print(\"Evidence suggests rejecting the null hypothesis.\")\n",
    "    else:\n",
    "        print(f\"p-value ({p_value}) is greater than or equal to the threshold ({threshold}).\")\n",
    "        print(\"Not enough evidence to reject the null hypothesis.\")\n",
    "\n",
    "# Example usage\n",
    "interpret_p_value(0.03, threshold=0.05)"
   ]
  },
  {
   "cell_type": "markdown",
   "id": "422c282c-cbab-4777-93a1-0fb5996583f6",
   "metadata": {},
   "source": [
    "# Libraries and Data"
   ]
  },
  {
   "cell_type": "code",
   "execution_count": 2,
   "id": "0cb7cb96-39e4-42f9-8232-92f15e5e2bae",
   "metadata": {},
   "outputs": [
    {
     "name": "stdout",
     "output_type": "stream",
     "text": [
      "1.26.4\n",
      "1.15.1\n"
     ]
    }
   ],
   "source": [
    "import numpy\n",
    "import scipy\n",
    "print(numpy.__version__)\n",
    "print(scipy.__version__)"
   ]
  },
  {
   "cell_type": "code",
   "execution_count": 3,
   "id": "00777d0b-75ce-42c9-bf7b-309eae5dce8e",
   "metadata": {},
   "outputs": [
    {
     "ename": "ValueError",
     "evalue": "All ufuncs must have type `numpy.ufunc`. Received (<ufunc 'sph_legendre_p'>, <ufunc 'sph_legendre_p'>, <ufunc 'sph_legendre_p'>)",
     "output_type": "error",
     "traceback": [
      "\u001b[0;31m---------------------------------------------------------------------------\u001b[0m",
      "\u001b[0;31mValueError\u001b[0m                                Traceback (most recent call last)",
      "Cell \u001b[0;32mIn[3], line 3\u001b[0m\n\u001b[1;32m      1\u001b[0m \u001b[38;5;66;03m# Import libraries\u001b[39;00m\n\u001b[1;32m      2\u001b[0m \u001b[38;5;28;01mimport\u001b[39;00m \u001b[38;5;21;01mmatplotlib\u001b[39;00m\u001b[38;5;21;01m.\u001b[39;00m\u001b[38;5;21;01mpyplot\u001b[39;00m \u001b[38;5;28;01mas\u001b[39;00m \u001b[38;5;21;01mplt\u001b[39;00m\n\u001b[0;32m----> 3\u001b[0m \u001b[38;5;28;01mimport\u001b[39;00m \u001b[38;5;21;01mseaborn\u001b[39;00m \u001b[38;5;28;01mas\u001b[39;00m \u001b[38;5;21;01msns\u001b[39;00m\n\u001b[1;32m      4\u001b[0m \u001b[38;5;28;01mimport\u001b[39;00m \u001b[38;5;21;01mpandas\u001b[39;00m \u001b[38;5;28;01mas\u001b[39;00m \u001b[38;5;21;01mpd\u001b[39;00m\n\u001b[1;32m      5\u001b[0m \u001b[38;5;28;01mimport\u001b[39;00m \u001b[38;5;21;01mscipy\u001b[39;00m\u001b[38;5;21;01m.\u001b[39;00m\u001b[38;5;21;01mstats\u001b[39;00m \u001b[38;5;28;01mas\u001b[39;00m \u001b[38;5;21;01mstats\u001b[39;00m\n",
      "File \u001b[0;32m~/Library/CloudStorage/OneDrive-Personal/Documents/Education/ZTM/ZTMBusinessAnalytics/Business Analyst 2025/A-B Testing and Experimentation/Mastering A-B Testing/env/lib/python3.12/site-packages/seaborn/__init__.py:5\u001b[0m\n\u001b[1;32m      3\u001b[0m \u001b[38;5;28;01mfrom\u001b[39;00m \u001b[38;5;21;01m.\u001b[39;00m\u001b[38;5;21;01mutils\u001b[39;00m \u001b[38;5;28;01mimport\u001b[39;00m \u001b[38;5;241m*\u001b[39m  \u001b[38;5;66;03m# noqa: F401,F403\u001b[39;00m\n\u001b[1;32m      4\u001b[0m \u001b[38;5;28;01mfrom\u001b[39;00m \u001b[38;5;21;01m.\u001b[39;00m\u001b[38;5;21;01mpalettes\u001b[39;00m \u001b[38;5;28;01mimport\u001b[39;00m \u001b[38;5;241m*\u001b[39m  \u001b[38;5;66;03m# noqa: F401,F403\u001b[39;00m\n\u001b[0;32m----> 5\u001b[0m \u001b[38;5;28;01mfrom\u001b[39;00m \u001b[38;5;21;01m.\u001b[39;00m\u001b[38;5;21;01mrelational\u001b[39;00m \u001b[38;5;28;01mimport\u001b[39;00m \u001b[38;5;241m*\u001b[39m  \u001b[38;5;66;03m# noqa: F401,F403\u001b[39;00m\n\u001b[1;32m      6\u001b[0m \u001b[38;5;28;01mfrom\u001b[39;00m \u001b[38;5;21;01m.\u001b[39;00m\u001b[38;5;21;01mregression\u001b[39;00m \u001b[38;5;28;01mimport\u001b[39;00m \u001b[38;5;241m*\u001b[39m  \u001b[38;5;66;03m# noqa: F401,F403\u001b[39;00m\n\u001b[1;32m      7\u001b[0m \u001b[38;5;28;01mfrom\u001b[39;00m \u001b[38;5;21;01m.\u001b[39;00m\u001b[38;5;21;01mcategorical\u001b[39;00m \u001b[38;5;28;01mimport\u001b[39;00m \u001b[38;5;241m*\u001b[39m  \u001b[38;5;66;03m# noqa: F401,F403\u001b[39;00m\n",
      "File \u001b[0;32m~/Library/CloudStorage/OneDrive-Personal/Documents/Education/ZTM/ZTMBusinessAnalytics/Business Analyst 2025/A-B Testing and Experimentation/Mastering A-B Testing/env/lib/python3.12/site-packages/seaborn/relational.py:21\u001b[0m\n\u001b[1;32m     13\u001b[0m \u001b[38;5;28;01mfrom\u001b[39;00m \u001b[38;5;21;01m.\u001b[39;00m\u001b[38;5;21;01mutils\u001b[39;00m \u001b[38;5;28;01mimport\u001b[39;00m (\n\u001b[1;32m     14\u001b[0m     adjust_legend_subtitles,\n\u001b[1;32m     15\u001b[0m     _default_color,\n\u001b[0;32m   (...)\u001b[0m\n\u001b[1;32m     18\u001b[0m     _scatter_legend_artist,\n\u001b[1;32m     19\u001b[0m )\n\u001b[1;32m     20\u001b[0m \u001b[38;5;28;01mfrom\u001b[39;00m \u001b[38;5;21;01m.\u001b[39;00m\u001b[38;5;21;01m_compat\u001b[39;00m \u001b[38;5;28;01mimport\u001b[39;00m groupby_apply_include_groups\n\u001b[0;32m---> 21\u001b[0m \u001b[38;5;28;01mfrom\u001b[39;00m \u001b[38;5;21;01m.\u001b[39;00m\u001b[38;5;21;01m_statistics\u001b[39;00m \u001b[38;5;28;01mimport\u001b[39;00m EstimateAggregator, WeightedAggregator\n\u001b[1;32m     22\u001b[0m \u001b[38;5;28;01mfrom\u001b[39;00m \u001b[38;5;21;01m.\u001b[39;00m\u001b[38;5;21;01maxisgrid\u001b[39;00m \u001b[38;5;28;01mimport\u001b[39;00m FacetGrid, _facet_docs\n\u001b[1;32m     23\u001b[0m \u001b[38;5;28;01mfrom\u001b[39;00m \u001b[38;5;21;01m.\u001b[39;00m\u001b[38;5;21;01m_docstrings\u001b[39;00m \u001b[38;5;28;01mimport\u001b[39;00m DocstringComponents, _core_docs\n",
      "File \u001b[0;32m~/Library/CloudStorage/OneDrive-Personal/Documents/Education/ZTM/ZTMBusinessAnalytics/Business Analyst 2025/A-B Testing and Experimentation/Mastering A-B Testing/env/lib/python3.12/site-packages/seaborn/_statistics.py:32\u001b[0m\n\u001b[1;32m     30\u001b[0m \u001b[38;5;28;01mimport\u001b[39;00m \u001b[38;5;21;01mpandas\u001b[39;00m \u001b[38;5;28;01mas\u001b[39;00m \u001b[38;5;21;01mpd\u001b[39;00m\n\u001b[1;32m     31\u001b[0m \u001b[38;5;28;01mtry\u001b[39;00m:\n\u001b[0;32m---> 32\u001b[0m     \u001b[38;5;28;01mfrom\u001b[39;00m \u001b[38;5;21;01mscipy\u001b[39;00m\u001b[38;5;21;01m.\u001b[39;00m\u001b[38;5;21;01mstats\u001b[39;00m \u001b[38;5;28;01mimport\u001b[39;00m gaussian_kde\n\u001b[1;32m     33\u001b[0m     _no_scipy \u001b[38;5;241m=\u001b[39m \u001b[38;5;28;01mFalse\u001b[39;00m\n\u001b[1;32m     34\u001b[0m \u001b[38;5;28;01mexcept\u001b[39;00m \u001b[38;5;167;01mImportError\u001b[39;00m:\n",
      "File \u001b[0;32m~/Library/CloudStorage/OneDrive-Personal/Documents/Education/ZTM/ZTMBusinessAnalytics/Business Analyst 2025/A-B Testing and Experimentation/Mastering A-B Testing/env/lib/python3.12/site-packages/scipy/stats/__init__.py:624\u001b[0m\n\u001b[1;32m      1\u001b[0m \u001b[38;5;124;03m\"\"\"\u001b[39;00m\n\u001b[1;32m      2\u001b[0m \u001b[38;5;124;03m.. _statsrefmanual:\u001b[39;00m\n\u001b[1;32m      3\u001b[0m \n\u001b[0;32m   (...)\u001b[0m\n\u001b[1;32m    619\u001b[0m \n\u001b[1;32m    620\u001b[0m \u001b[38;5;124;03m\"\"\"\u001b[39;00m  \u001b[38;5;66;03m# noqa: E501\u001b[39;00m\n\u001b[1;32m    622\u001b[0m \u001b[38;5;28;01mfrom\u001b[39;00m \u001b[38;5;21;01m.\u001b[39;00m\u001b[38;5;21;01m_warnings_errors\u001b[39;00m \u001b[38;5;28;01mimport\u001b[39;00m (ConstantInputWarning, NearConstantInputWarning,\n\u001b[1;32m    623\u001b[0m                                DegenerateDataWarning, FitError)\n\u001b[0;32m--> 624\u001b[0m \u001b[38;5;28;01mfrom\u001b[39;00m \u001b[38;5;21;01m.\u001b[39;00m\u001b[38;5;21;01m_stats_py\u001b[39;00m \u001b[38;5;28;01mimport\u001b[39;00m \u001b[38;5;241m*\u001b[39m\n\u001b[1;32m    625\u001b[0m \u001b[38;5;28;01mfrom\u001b[39;00m \u001b[38;5;21;01m.\u001b[39;00m\u001b[38;5;21;01m_variation\u001b[39;00m \u001b[38;5;28;01mimport\u001b[39;00m variation\n\u001b[1;32m    626\u001b[0m \u001b[38;5;28;01mfrom\u001b[39;00m \u001b[38;5;21;01m.\u001b[39;00m\u001b[38;5;21;01mdistributions\u001b[39;00m \u001b[38;5;28;01mimport\u001b[39;00m \u001b[38;5;241m*\u001b[39m\n",
      "File \u001b[0;32m~/Library/CloudStorage/OneDrive-Personal/Documents/Education/ZTM/ZTMBusinessAnalytics/Business Analyst 2025/A-B Testing and Experimentation/Mastering A-B Testing/env/lib/python3.12/site-packages/scipy/stats/_stats_py.py:39\u001b[0m\n\u001b[1;32m     36\u001b[0m \u001b[38;5;28;01mfrom\u001b[39;00m \u001b[38;5;21;01mnumpy\u001b[39;00m \u001b[38;5;28;01mimport\u001b[39;00m array, asarray, ma\n\u001b[1;32m     38\u001b[0m \u001b[38;5;28;01mfrom\u001b[39;00m \u001b[38;5;21;01mscipy\u001b[39;00m \u001b[38;5;28;01mimport\u001b[39;00m sparse\n\u001b[0;32m---> 39\u001b[0m \u001b[38;5;28;01mfrom\u001b[39;00m \u001b[38;5;21;01mscipy\u001b[39;00m\u001b[38;5;21;01m.\u001b[39;00m\u001b[38;5;21;01mspatial\u001b[39;00m \u001b[38;5;28;01mimport\u001b[39;00m distance_matrix\n\u001b[1;32m     41\u001b[0m \u001b[38;5;28;01mfrom\u001b[39;00m \u001b[38;5;21;01mscipy\u001b[39;00m\u001b[38;5;21;01m.\u001b[39;00m\u001b[38;5;21;01moptimize\u001b[39;00m \u001b[38;5;28;01mimport\u001b[39;00m milp, LinearConstraint\n\u001b[1;32m     42\u001b[0m \u001b[38;5;28;01mfrom\u001b[39;00m \u001b[38;5;21;01mscipy\u001b[39;00m\u001b[38;5;21;01m.\u001b[39;00m\u001b[38;5;21;01m_lib\u001b[39;00m\u001b[38;5;21;01m.\u001b[39;00m\u001b[38;5;21;01m_util\u001b[39;00m \u001b[38;5;28;01mimport\u001b[39;00m (check_random_state, _get_nan,\n\u001b[1;32m     43\u001b[0m                               _rename_parameter, _contains_nan,\n\u001b[1;32m     44\u001b[0m                               AxisError, _lazywhere)\n",
      "File \u001b[0;32m~/Library/CloudStorage/OneDrive-Personal/Documents/Education/ZTM/ZTMBusinessAnalytics/Business Analyst 2025/A-B Testing and Experimentation/Mastering A-B Testing/env/lib/python3.12/site-packages/scipy/spatial/__init__.py:116\u001b[0m\n\u001b[1;32m    114\u001b[0m \u001b[38;5;28;01mfrom\u001b[39;00m \u001b[38;5;21;01m.\u001b[39;00m\u001b[38;5;21;01m_plotutils\u001b[39;00m \u001b[38;5;28;01mimport\u001b[39;00m \u001b[38;5;241m*\u001b[39m\n\u001b[1;32m    115\u001b[0m \u001b[38;5;28;01mfrom\u001b[39;00m \u001b[38;5;21;01m.\u001b[39;00m\u001b[38;5;21;01m_procrustes\u001b[39;00m \u001b[38;5;28;01mimport\u001b[39;00m procrustes\n\u001b[0;32m--> 116\u001b[0m \u001b[38;5;28;01mfrom\u001b[39;00m \u001b[38;5;21;01m.\u001b[39;00m\u001b[38;5;21;01m_geometric_slerp\u001b[39;00m \u001b[38;5;28;01mimport\u001b[39;00m geometric_slerp\n\u001b[1;32m    118\u001b[0m \u001b[38;5;66;03m# Deprecated namespaces, to be removed in v2.0.0\u001b[39;00m\n\u001b[1;32m    119\u001b[0m \u001b[38;5;28;01mfrom\u001b[39;00m \u001b[38;5;21;01m.\u001b[39;00m \u001b[38;5;28;01mimport\u001b[39;00m ckdtree, kdtree, qhull\n",
      "File \u001b[0;32m~/Library/CloudStorage/OneDrive-Personal/Documents/Education/ZTM/ZTMBusinessAnalytics/Business Analyst 2025/A-B Testing and Experimentation/Mastering A-B Testing/env/lib/python3.12/site-packages/scipy/spatial/_geometric_slerp.py:7\u001b[0m\n\u001b[1;32m      4\u001b[0m \u001b[38;5;28;01mfrom\u001b[39;00m \u001b[38;5;21;01mtyping\u001b[39;00m \u001b[38;5;28;01mimport\u001b[39;00m TYPE_CHECKING\n\u001b[1;32m      6\u001b[0m \u001b[38;5;28;01mimport\u001b[39;00m \u001b[38;5;21;01mnumpy\u001b[39;00m \u001b[38;5;28;01mas\u001b[39;00m \u001b[38;5;21;01mnp\u001b[39;00m\n\u001b[0;32m----> 7\u001b[0m \u001b[38;5;28;01mfrom\u001b[39;00m \u001b[38;5;21;01mscipy\u001b[39;00m\u001b[38;5;21;01m.\u001b[39;00m\u001b[38;5;21;01mspatial\u001b[39;00m\u001b[38;5;21;01m.\u001b[39;00m\u001b[38;5;21;01mdistance\u001b[39;00m \u001b[38;5;28;01mimport\u001b[39;00m euclidean\n\u001b[1;32m      9\u001b[0m \u001b[38;5;28;01mif\u001b[39;00m TYPE_CHECKING:\n\u001b[1;32m     10\u001b[0m     \u001b[38;5;28;01mimport\u001b[39;00m \u001b[38;5;21;01mnumpy\u001b[39;00m\u001b[38;5;21;01m.\u001b[39;00m\u001b[38;5;21;01mtyping\u001b[39;00m \u001b[38;5;28;01mas\u001b[39;00m \u001b[38;5;21;01mnpt\u001b[39;00m\n",
      "File \u001b[0;32m~/Library/CloudStorage/OneDrive-Personal/Documents/Education/ZTM/ZTMBusinessAnalytics/Business Analyst 2025/A-B Testing and Experimentation/Mastering A-B Testing/env/lib/python3.12/site-packages/scipy/spatial/distance.py:121\u001b[0m\n\u001b[1;32m    119\u001b[0m \u001b[38;5;28;01mfrom\u001b[39;00m \u001b[38;5;21;01m.\u001b[39;00m \u001b[38;5;28;01mimport\u001b[39;00m _hausdorff\n\u001b[1;32m    120\u001b[0m \u001b[38;5;28;01mfrom\u001b[39;00m \u001b[38;5;21;01m.\u001b[39;00m\u001b[38;5;21;01m.\u001b[39;00m\u001b[38;5;21;01mlinalg\u001b[39;00m \u001b[38;5;28;01mimport\u001b[39;00m norm\n\u001b[0;32m--> 121\u001b[0m \u001b[38;5;28;01mfrom\u001b[39;00m \u001b[38;5;21;01m.\u001b[39;00m\u001b[38;5;21;01m.\u001b[39;00m\u001b[38;5;21;01mspecial\u001b[39;00m \u001b[38;5;28;01mimport\u001b[39;00m rel_entr\n\u001b[1;32m    123\u001b[0m \u001b[38;5;28;01mfrom\u001b[39;00m \u001b[38;5;21;01m.\u001b[39;00m \u001b[38;5;28;01mimport\u001b[39;00m _distance_pybind\n\u001b[1;32m    126\u001b[0m \u001b[38;5;28;01mdef\u001b[39;00m \u001b[38;5;21m_copy_array_if_base_present\u001b[39m(a):\n",
      "File \u001b[0;32m~/Library/CloudStorage/OneDrive-Personal/Documents/Education/ZTM/ZTMBusinessAnalytics/Business Analyst 2025/A-B Testing and Experimentation/Mastering A-B Testing/env/lib/python3.12/site-packages/scipy/special/__init__.py:825\u001b[0m\n\u001b[1;32m    819\u001b[0m \u001b[38;5;66;03m# Replace some function definitions from _ufuncs to add Array API support\u001b[39;00m\n\u001b[1;32m    820\u001b[0m \u001b[38;5;28;01mfrom\u001b[39;00m \u001b[38;5;21;01m.\u001b[39;00m\u001b[38;5;21;01m_support_alternative_backends\u001b[39;00m \u001b[38;5;28;01mimport\u001b[39;00m (\n\u001b[1;32m    821\u001b[0m     log_ndtr, ndtr, ndtri, erf, erfc, i0, i0e, i1, i1e, gammaln,\n\u001b[1;32m    822\u001b[0m     gammainc, gammaincc, logit, expit, entr, rel_entr, xlogy,\n\u001b[1;32m    823\u001b[0m     chdtr, chdtrc, betainc, betaincc, stdtr)\n\u001b[0;32m--> 825\u001b[0m \u001b[38;5;28;01mfrom\u001b[39;00m \u001b[38;5;21;01m.\u001b[39;00m \u001b[38;5;28;01mimport\u001b[39;00m _basic\n\u001b[1;32m    826\u001b[0m \u001b[38;5;28;01mfrom\u001b[39;00m \u001b[38;5;21;01m.\u001b[39;00m\u001b[38;5;21;01m_basic\u001b[39;00m \u001b[38;5;28;01mimport\u001b[39;00m \u001b[38;5;241m*\u001b[39m\n\u001b[1;32m    828\u001b[0m \u001b[38;5;28;01mfrom\u001b[39;00m \u001b[38;5;21;01m.\u001b[39;00m\u001b[38;5;21;01m_logsumexp\u001b[39;00m \u001b[38;5;28;01mimport\u001b[39;00m logsumexp, softmax, log_softmax\n",
      "File \u001b[0;32m~/Library/CloudStorage/OneDrive-Personal/Documents/Education/ZTM/ZTMBusinessAnalytics/Business Analyst 2025/A-B Testing and Experimentation/Mastering A-B Testing/env/lib/python3.12/site-packages/scipy/special/_basic.py:22\u001b[0m\n\u001b[1;32m     20\u001b[0m \u001b[38;5;28;01mfrom\u001b[39;00m \u001b[38;5;21;01m.\u001b[39;00m \u001b[38;5;28;01mimport\u001b[39;00m _specfun\n\u001b[1;32m     21\u001b[0m \u001b[38;5;28;01mfrom\u001b[39;00m \u001b[38;5;21;01m.\u001b[39;00m\u001b[38;5;21;01m_comb\u001b[39;00m \u001b[38;5;28;01mimport\u001b[39;00m _comb_int\n\u001b[0;32m---> 22\u001b[0m \u001b[38;5;28;01mfrom\u001b[39;00m \u001b[38;5;21;01m.\u001b[39;00m\u001b[38;5;21;01m_multiufuncs\u001b[39;00m \u001b[38;5;28;01mimport\u001b[39;00m (assoc_legendre_p_all,\n\u001b[1;32m     23\u001b[0m                            legendre_p_all)\n\u001b[1;32m     24\u001b[0m \u001b[38;5;28;01mfrom\u001b[39;00m \u001b[38;5;21;01mscipy\u001b[39;00m\u001b[38;5;21;01m.\u001b[39;00m\u001b[38;5;21;01m_lib\u001b[39;00m\u001b[38;5;21;01m.\u001b[39;00m\u001b[38;5;21;01mdeprecation\u001b[39;00m \u001b[38;5;28;01mimport\u001b[39;00m _deprecated\n\u001b[1;32m     27\u001b[0m __all__ \u001b[38;5;241m=\u001b[39m [\n\u001b[1;32m     28\u001b[0m     \u001b[38;5;124m'\u001b[39m\u001b[38;5;124mai_zeros\u001b[39m\u001b[38;5;124m'\u001b[39m,\n\u001b[1;32m     29\u001b[0m     \u001b[38;5;124m'\u001b[39m\u001b[38;5;124massoc_laguerre\u001b[39m\u001b[38;5;124m'\u001b[39m,\n\u001b[0;32m   (...)\u001b[0m\n\u001b[1;32m     87\u001b[0m     \u001b[38;5;124m'\u001b[39m\u001b[38;5;124mzeta\u001b[39m\u001b[38;5;124m'\u001b[39m\n\u001b[1;32m     88\u001b[0m ]\n",
      "File \u001b[0;32m~/Library/CloudStorage/OneDrive-Personal/Documents/Education/ZTM/ZTMBusinessAnalytics/Business Analyst 2025/A-B Testing and Experimentation/Mastering A-B Testing/env/lib/python3.12/site-packages/scipy/special/_multiufuncs.py:142\u001b[0m\n\u001b[1;32m    137\u001b[0m             out \u001b[38;5;241m=\u001b[39m \u001b[38;5;28mself\u001b[39m\u001b[38;5;241m.\u001b[39m_finalize_out(out)\n\u001b[1;32m    139\u001b[0m         \u001b[38;5;28;01mreturn\u001b[39;00m out\n\u001b[0;32m--> 142\u001b[0m sph_legendre_p \u001b[38;5;241m=\u001b[39m MultiUFunc(\n\u001b[1;32m    143\u001b[0m     sph_legendre_p,\n\u001b[1;32m    144\u001b[0m \u001b[38;5;250m    \u001b[39m\u001b[38;5;124mr\u001b[39m\u001b[38;5;124;03m\"\"\"sph_legendre_p(n, m, theta, *, diff_n=0)\u001b[39;00m\n\u001b[1;32m    145\u001b[0m \n\u001b[1;32m    146\u001b[0m \u001b[38;5;124;03m    Spherical Legendre polynomial of the first kind.\u001b[39;00m\n\u001b[1;32m    147\u001b[0m \n\u001b[1;32m    148\u001b[0m \u001b[38;5;124;03m    Parameters\u001b[39;00m\n\u001b[1;32m    149\u001b[0m \u001b[38;5;124;03m    ----------\u001b[39;00m\n\u001b[1;32m    150\u001b[0m \u001b[38;5;124;03m    n : ArrayLike[int]\u001b[39;00m\n\u001b[1;32m    151\u001b[0m \u001b[38;5;124;03m        Degree of the spherical Legendre polynomial. Must have ``n >= 0``.\u001b[39;00m\n\u001b[1;32m    152\u001b[0m \u001b[38;5;124;03m    m : ArrayLike[int]\u001b[39;00m\n\u001b[1;32m    153\u001b[0m \u001b[38;5;124;03m        Order of the spherical Legendre polynomial.\u001b[39;00m\n\u001b[1;32m    154\u001b[0m \u001b[38;5;124;03m    theta : ArrayLike[float]\u001b[39;00m\n\u001b[1;32m    155\u001b[0m \u001b[38;5;124;03m        Input value.\u001b[39;00m\n\u001b[1;32m    156\u001b[0m \u001b[38;5;124;03m    diff_n : Optional[int]\u001b[39;00m\n\u001b[1;32m    157\u001b[0m \u001b[38;5;124;03m        A non-negative integer. Compute and return all derivatives up\u001b[39;00m\n\u001b[1;32m    158\u001b[0m \u001b[38;5;124;03m        to order ``diff_n``. Default is 0.\u001b[39;00m\n\u001b[1;32m    159\u001b[0m \n\u001b[1;32m    160\u001b[0m \u001b[38;5;124;03m    Returns\u001b[39;00m\n\u001b[1;32m    161\u001b[0m \u001b[38;5;124;03m    -------\u001b[39;00m\n\u001b[1;32m    162\u001b[0m \u001b[38;5;124;03m    p : ndarray or tuple[ndarray]\u001b[39;00m\n\u001b[1;32m    163\u001b[0m \u001b[38;5;124;03m        Spherical Legendre polynomial with ``diff_n`` derivatives.\u001b[39;00m\n\u001b[1;32m    164\u001b[0m \n\u001b[1;32m    165\u001b[0m \u001b[38;5;124;03m    Notes\u001b[39;00m\n\u001b[1;32m    166\u001b[0m \u001b[38;5;124;03m    -----\u001b[39;00m\n\u001b[1;32m    167\u001b[0m \u001b[38;5;124;03m    The spherical counterpart of an (unnormalized) associated Legendre polynomial has\u001b[39;00m\n\u001b[1;32m    168\u001b[0m \u001b[38;5;124;03m    the additional factor\u001b[39;00m\n\u001b[1;32m    169\u001b[0m \n\u001b[1;32m    170\u001b[0m \u001b[38;5;124;03m    .. math::\u001b[39;00m\n\u001b[1;32m    171\u001b[0m \n\u001b[1;32m    172\u001b[0m \u001b[38;5;124;03m        \\sqrt{\\frac{(2 n + 1) (n - m)!}{4 \\pi (n + m)!}}\u001b[39;00m\n\u001b[1;32m    173\u001b[0m \n\u001b[1;32m    174\u001b[0m \u001b[38;5;124;03m    It is the same as the spherical harmonic :math:`Y_{n}^{m}(\\theta, \\phi)`\u001b[39;00m\n\u001b[1;32m    175\u001b[0m \u001b[38;5;124;03m    with :math:`\\phi = 0`.\u001b[39;00m\n\u001b[1;32m    176\u001b[0m \u001b[38;5;124;03m    \"\"\"\u001b[39;00m, diff_n\u001b[38;5;241m=\u001b[39m\u001b[38;5;241m0\u001b[39m\n\u001b[1;32m    177\u001b[0m )\n\u001b[1;32m    180\u001b[0m \u001b[38;5;129m@sph_legendre_p\u001b[39m\u001b[38;5;241m.\u001b[39m_override_key\n\u001b[1;32m    181\u001b[0m \u001b[38;5;28;01mdef\u001b[39;00m \u001b[38;5;21m_\u001b[39m(diff_n):\n\u001b[1;32m    182\u001b[0m     diff_n \u001b[38;5;241m=\u001b[39m _nonneg_int_or_fail(diff_n, \u001b[38;5;124m\"\u001b[39m\u001b[38;5;124mdiff_n\u001b[39m\u001b[38;5;124m\"\u001b[39m, strict\u001b[38;5;241m=\u001b[39m\u001b[38;5;28;01mFalse\u001b[39;00m)\n",
      "File \u001b[0;32m~/Library/CloudStorage/OneDrive-Personal/Documents/Education/ZTM/ZTMBusinessAnalytics/Business Analyst 2025/A-B Testing and Experimentation/Mastering A-B Testing/env/lib/python3.12/site-packages/scipy/special/_multiufuncs.py:41\u001b[0m, in \u001b[0;36mMultiUFunc.__init__\u001b[0;34m(self, ufunc_or_ufuncs, doc, force_complex_output, **default_kwargs)\u001b[0m\n\u001b[1;32m     39\u001b[0m \u001b[38;5;28;01mfor\u001b[39;00m ufunc \u001b[38;5;129;01min\u001b[39;00m ufuncs_iter:\n\u001b[1;32m     40\u001b[0m     \u001b[38;5;28;01mif\u001b[39;00m \u001b[38;5;129;01mnot\u001b[39;00m \u001b[38;5;28misinstance\u001b[39m(ufunc, np\u001b[38;5;241m.\u001b[39mufunc):\n\u001b[0;32m---> 41\u001b[0m         \u001b[38;5;28;01mraise\u001b[39;00m \u001b[38;5;167;01mValueError\u001b[39;00m(\u001b[38;5;124m\"\u001b[39m\u001b[38;5;124mAll ufuncs must have type `numpy.ufunc`.\u001b[39m\u001b[38;5;124m\"\u001b[39m\n\u001b[1;32m     42\u001b[0m                          \u001b[38;5;124mf\u001b[39m\u001b[38;5;124m\"\u001b[39m\u001b[38;5;124m Received \u001b[39m\u001b[38;5;132;01m{\u001b[39;00mufunc_or_ufuncs\u001b[38;5;132;01m}\u001b[39;00m\u001b[38;5;124m\"\u001b[39m)\n\u001b[1;32m     43\u001b[0m     seen_input_types\u001b[38;5;241m.\u001b[39madd(\u001b[38;5;28mfrozenset\u001b[39m(x\u001b[38;5;241m.\u001b[39msplit(\u001b[38;5;124m\"\u001b[39m\u001b[38;5;124m->\u001b[39m\u001b[38;5;124m\"\u001b[39m)[\u001b[38;5;241m0\u001b[39m] \u001b[38;5;28;01mfor\u001b[39;00m x \u001b[38;5;129;01min\u001b[39;00m ufunc\u001b[38;5;241m.\u001b[39mtypes))\n\u001b[1;32m     44\u001b[0m \u001b[38;5;28;01mif\u001b[39;00m \u001b[38;5;28mlen\u001b[39m(seen_input_types) \u001b[38;5;241m>\u001b[39m \u001b[38;5;241m1\u001b[39m:\n",
      "\u001b[0;31mValueError\u001b[0m: All ufuncs must have type `numpy.ufunc`. Received (<ufunc 'sph_legendre_p'>, <ufunc 'sph_legendre_p'>, <ufunc 'sph_legendre_p'>)"
     ]
    }
   ],
   "source": [
    "# Import libraries\n",
    "import matplotlib.pyplot as plt\n",
    "import seaborn as sns\n",
    "import pandas as pd\n",
    "import scipy.stats as stats\n",
    "import numpy as np\n",
    "import statsmodels.api as sm"
   ]
  },
  {
   "cell_type": "code",
   "execution_count": null,
   "id": "39272de3-73d3-48b2-9629-180096fe5de2",
   "metadata": {},
   "outputs": [],
   "source": [
    "# Load the data\n",
    "# Amazon landing page A/B testing data\n",
    "df = pd.read_csv('amazon_landing_page.csv')\n",
    "df.head()"
   ]
  },
  {
   "cell_type": "code",
   "execution_count": null,
   "id": "66749a47-4b14-4af2-a270-828dfbfbad48",
   "metadata": {},
   "outputs": [],
   "source": [
    "# Data information\n",
    "df.info()"
   ]
  },
  {
   "cell_type": "markdown",
   "id": "0477baf7-267c-4f6c-a068-f3ff61705c1f",
   "metadata": {},
   "source": [
    "# Exploratory Data Analysis (EDA)"
   ]
  },
  {
   "cell_type": "markdown",
   "id": "146ebdb3-30d1-4aaa-b4bc-6aef665303ad",
   "metadata": {},
   "source": [
    "#### 1. Descriptive Statistics and Data Quality Check"
   ]
  },
  {
   "cell_type": "code",
   "execution_count": null,
   "id": "bed3aab2-3b2a-4622-a874-9d70838106a0",
   "metadata": {},
   "outputs": [],
   "source": [
    "desc_stats = df.describe()\n",
    "print(desc_stats)\n",
    "print(f\"\\nMissing values in each column:\\n{df.isnull().sum()}\")\n",
    "print(f\"\\nNumber of duplicate entries: {df.duplicated().sum()}\")"
   ]
  },
  {
   "cell_type": "code",
   "execution_count": null,
   "id": "556a5a19-2393-41b8-be8c-81e82d732fe4",
   "metadata": {},
   "outputs": [],
   "source": [
    "# Checking consistency between group and landing page\n",
    "# This verifies if all entries where 'group' is 'control' have 'landing_page' set to 'old_page'\n",
    "consistency_check = (df['group'] == 'control') == (df['landing_page'] == 'old_page')\n",
    "print(f\"\\nConsistency between group and landing page: {consistency_check.all()}\")"
   ]
  },
  {
   "cell_type": "markdown",
   "id": "51a7aaf7-ade3-4e3a-a5be-e72f66993ab0",
   "metadata": {},
   "source": [
    "#### 2. Group Analysis"
   ]
  },
  {
   "cell_type": "code",
   "execution_count": null,
   "id": "9ed77c16-00a4-4e6a-a729-ce78bd26efa2",
   "metadata": {},
   "outputs": [],
   "source": [
    "group_conversion = df.groupby('group')['converted'].mean()\n",
    "print(f\"\\nConversion rate by group:\\n{group_conversion}\")"
   ]
  },
  {
   "cell_type": "markdown",
   "id": "4f9008af-a3cb-4641-8b0f-43f6a3d717b1",
   "metadata": {},
   "source": [
    "#### 3. Conversion Rate Analysis"
   ]
  },
  {
   "cell_type": "code",
   "execution_count": null,
   "id": "32b6072c-cb75-4607-9dd7-a9c47b296335",
   "metadata": {},
   "outputs": [],
   "source": [
    "conversion_rate = df['converted'].mean()\n",
    "print(f\"\\nOverall conversion rate: {conversion_rate}\")"
   ]
  },
  {
   "cell_type": "markdown",
   "id": "b42cf8e3-f625-463b-a707-28de623b1938",
   "metadata": {},
   "source": [
    "#### 4. Distribution"
   ]
  },
  {
   "cell_type": "code",
   "execution_count": null,
   "id": "891fd009-23d1-44f3-b29e-36a2507686ca",
   "metadata": {},
   "outputs": [],
   "source": [
    "# Plot the count of users for each landing page to visualise the distribution\n",
    "plt.figure(figsize=(6, 4))\n",
    "sns.countplot(x='landing_page', data=df)\n",
    "plt.title('Distribution of Users on Different Landing Pages')\n",
    "plt.show();"
   ]
  },
  {
   "cell_type": "markdown",
   "id": "26a69635-ab3f-4c91-8331-ae94db9bd040",
   "metadata": {},
   "source": [
    "# Data Preprocessing"
   ]
  },
  {
   "cell_type": "code",
   "execution_count": null,
   "id": "d7f3b4cf-591d-4349-9033-9c261d3613db",
   "metadata": {},
   "outputs": [],
   "source": [
    "# Removing duplicate entries for user_id\n",
    "df_unique = df.drop_duplicates(subset='user_id')"
   ]
  },
  {
   "cell_type": "code",
   "execution_count": null,
   "id": "91a53409-a5e4-4a1d-87e2-c493faa76c29",
   "metadata": {},
   "outputs": [],
   "source": [
    "# Checking for inconsistencies between group and landing_page\n",
    "\n",
    "# Identify entries where the 'group' and 'landing_page' values do not match the expected assignment\n",
    "# 'control' group should have 'old_page' and 'treatment' group should have 'new_page'\n",
    "inconsistencies = df_unique[((df_unique['group'] == 'control') & (df_unique['landing_page'] != 'old_page')) |\n",
    "                            ((df_unique['group'] == 'treatment') & (df_unique['landing_page'] != 'new_page'))]\n",
    "\n",
    "# Counting the nummber of inconsistencies\n",
    "num_inconsistencies = inconsistencies.shape[0]\n",
    "print(f\"Number of inconsistencies: {num_inconsistencies}\")"
   ]
  },
  {
   "cell_type": "code",
   "execution_count": null,
   "id": "e6dd5dad-00fd-4eca-bfde-303bcea159fe",
   "metadata": {},
   "outputs": [],
   "source": [
    "# Option 1: Remove the inconsistent rows\n",
    "df_fixed = df_unique.drop(inconsistencies.index)"
   ]
  },
  {
   "cell_type": "markdown",
   "id": "15793f11-d1b0-426c-a75a-e56ac5fca675",
   "metadata": {},
   "source": [
    "# Bayesian A/B Testing"
   ]
  },
  {
   "cell_type": "markdown",
   "id": "f97af672-de5e-4348-bae9-9af0f97cd3cc",
   "metadata": {},
   "source": [
    "<span style=\"color: red\">**Note**:<span>\n",
    "\n",
    "Had to install `tensorflow` with pip (pip3 install tensorflow)\n",
    "Then install `tensorflow-probability` and `tf-keras` with conda (conda install tensorflow-probability tf-keras)"
   ]
  },
  {
   "cell_type": "code",
   "execution_count": null,
   "id": "cd2e4801-83fe-49dc-8563-60b8530e9181",
   "metadata": {},
   "outputs": [],
   "source": [
    "# Import libraries\n",
    "import tensorflow as tf\n",
    "import tensorflow_probability as tfp\n",
    "\n",
    "# Alias the distribution module from TensorFlow Probability for easier access\n",
    "tfd = tfp.distributions"
   ]
  },
  {
   "cell_type": "code",
   "execution_count": null,
   "id": "120e15bf-2d61-41d7-b516-46acbfa70e83",
   "metadata": {},
   "outputs": [],
   "source": []
  }
 ],
 "metadata": {
  "kernelspec": {
   "display_name": "Python 3 (ipykernel)",
   "language": "python",
   "name": "python3"
  },
  "language_info": {
   "codemirror_mode": {
    "name": "ipython",
    "version": 3
   },
   "file_extension": ".py",
   "mimetype": "text/x-python",
   "name": "python",
   "nbconvert_exporter": "python",
   "pygments_lexer": "ipython3",
   "version": "3.12.3"
  }
 },
 "nbformat": 4,
 "nbformat_minor": 5
}
