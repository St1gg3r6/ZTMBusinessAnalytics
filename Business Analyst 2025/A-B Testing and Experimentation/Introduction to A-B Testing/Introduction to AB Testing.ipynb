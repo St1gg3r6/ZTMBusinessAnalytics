{
 "cells": [
  {
   "cell_type": "markdown",
   "id": "d57ceee6",
   "metadata": {},
   "source": [
    "# Build a P-value Interpreter Function with ChatGPT"
   ]
  },
  {
   "cell_type": "code",
   "execution_count": 1,
   "id": "e648f41d",
   "metadata": {},
   "outputs": [
    {
     "name": "stdout",
     "output_type": "stream",
     "text": [
      "p-value (0.03) is less than the threshold (0.05).\n",
      "Evidence suggests rejecting the null hypothesis.\n"
     ]
    }
   ],
   "source": [
    "def interpret_p_value(p_value, threshold=0.05):\n",
    "    \"\"\"\n",
    "    Interpret the p-value in a statistical context against a specific threshold.\n",
    "\n",
    "    Parameters:\n",
    "    p_value (float): The p-value to interpret, expected to be in the range 0 to 1.\n",
    "    threshold (float): The significance level threshold, default is 0.05.\n",
    "\n",
    "    Returns:\n",
    "    None: Prints the interpretation of the p-value.\n",
    "\n",
    "    Raises:\n",
    "    ValueError: If the p_value or threshold is not within the range [0, 1].\n",
    "\n",
    "    Description:\n",
    "    This function assesses the provided p-value against a given threshold:\n",
    "    - p < threshold: Evidence suggests rejecting the null hypothesis.\n",
    "    - p >= threshold: Not enough evidence to reject the null hypothesis.\n",
    "\n",
    "    It's important to note that the interpretation of p-values is context-dependent\n",
    "    and should be considered along with other factors in statistical analysis.\n",
    "    \"\"\"\n",
    "    if not (0 <= p_value <= 1):\n",
    "        raise ValueError(\"p_value must be between 0 and 1.\")\n",
    "    if not (0 <= threshold <= 1):\n",
    "        raise ValueError(\"threshold must be between 0 and 1.\")\n",
    "\n",
    "    if p_value < threshold:\n",
    "        print(f\"p-value ({p_value}) is less than the threshold ({threshold}).\")\n",
    "        print(\"Evidence suggests rejecting the null hypothesis.\")\n",
    "    else:\n",
    "        print(f\"p-value ({p_value}) is greater than or equal to the threshold ({threshold}).\")\n",
    "        print(\"Not enough evidence to reject the null hypothesis.\")\n",
    "\n",
    "# Example usage\n",
    "interpret_p_value(0.03, threshold=0.05)"
   ]
  },
  {
   "cell_type": "markdown",
   "id": "0502a603",
   "metadata": {},
   "source": [
    "# Libraries and Data"
   ]
  },
  {
   "cell_type": "code",
   "execution_count": 2,
   "id": "c2616cf3",
   "metadata": {},
   "outputs": [],
   "source": [
    "# Import libraries\n",
    "import matplotlib.pyplot as plt\n",
    "import seaborn as sns\n",
    "import pandas as pd\n",
    "import scipy.stats as stats\n",
    "import numpy as np\n",
    "import statsmodels.api as sm"
   ]
  },
  {
   "cell_type": "code",
   "execution_count": 3,
   "id": "e6c02269",
   "metadata": {},
   "outputs": [
    {
     "data": {
      "text/html": [
       "<div>\n",
       "<style scoped>\n",
       "    .dataframe tbody tr th:only-of-type {\n",
       "        vertical-align: middle;\n",
       "    }\n",
       "\n",
       "    .dataframe tbody tr th {\n",
       "        vertical-align: top;\n",
       "    }\n",
       "\n",
       "    .dataframe thead th {\n",
       "        text-align: right;\n",
       "    }\n",
       "</style>\n",
       "<table border=\"1\" class=\"dataframe\">\n",
       "  <thead>\n",
       "    <tr style=\"text-align: right;\">\n",
       "      <th></th>\n",
       "      <th>id</th>\n",
       "      <th>team_level_access</th>\n",
       "      <th>minutes_played</th>\n",
       "      <th>day1_retention</th>\n",
       "      <th>day7_retention</th>\n",
       "    </tr>\n",
       "  </thead>\n",
       "  <tbody>\n",
       "    <tr>\n",
       "      <th>0</th>\n",
       "      <td>250642234</td>\n",
       "      <td>level_5</td>\n",
       "      <td>21</td>\n",
       "      <td>True</td>\n",
       "      <td>False</td>\n",
       "    </tr>\n",
       "    <tr>\n",
       "      <th>1</th>\n",
       "      <td>330729049</td>\n",
       "      <td>level_5</td>\n",
       "      <td>1</td>\n",
       "      <td>False</td>\n",
       "      <td>False</td>\n",
       "    </tr>\n",
       "    <tr>\n",
       "      <th>2</th>\n",
       "      <td>955307973</td>\n",
       "      <td>level_7</td>\n",
       "      <td>76</td>\n",
       "      <td>True</td>\n",
       "      <td>True</td>\n",
       "    </tr>\n",
       "    <tr>\n",
       "      <th>3</th>\n",
       "      <td>908651903</td>\n",
       "      <td>level_7</td>\n",
       "      <td>76</td>\n",
       "      <td>True</td>\n",
       "      <td>False</td>\n",
       "    </tr>\n",
       "    <tr>\n",
       "      <th>4</th>\n",
       "      <td>983320188</td>\n",
       "      <td>level_5</td>\n",
       "      <td>1</td>\n",
       "      <td>False</td>\n",
       "      <td>False</td>\n",
       "    </tr>\n",
       "  </tbody>\n",
       "</table>\n",
       "</div>"
      ],
      "text/plain": [
       "          id team_level_access  minutes_played  day1_retention  day7_retention\n",
       "0  250642234           level_5              21            True           False\n",
       "1  330729049           level_5               1           False           False\n",
       "2  955307973           level_7              76            True            True\n",
       "3  908651903           level_7              76            True           False\n",
       "4  983320188           level_5               1           False           False"
      ]
     },
     "execution_count": 3,
     "metadata": {},
     "output_type": "execute_result"
    }
   ],
   "source": [
    "# Load the data\n",
    "df = pd.read_csv(\"Krushing Kingdoms.csv\")\n",
    "df.head()"
   ]
  },
  {
   "cell_type": "code",
   "execution_count": 4,
   "id": "2b4c0552",
   "metadata": {},
   "outputs": [
    {
     "name": "stdout",
     "output_type": "stream",
     "text": [
      "<class 'pandas.core.frame.DataFrame'>\n",
      "RangeIndex: 50000 entries, 0 to 49999\n",
      "Data columns (total 5 columns):\n",
      " #   Column             Non-Null Count  Dtype \n",
      "---  ------             --------------  ----- \n",
      " 0   id                 50000 non-null  int64 \n",
      " 1   team_level_access  50000 non-null  object\n",
      " 2   minutes_played     50000 non-null  int64 \n",
      " 3   day1_retention     50000 non-null  bool  \n",
      " 4   day7_retention     50000 non-null  bool  \n",
      "dtypes: bool(2), int64(2), object(1)\n",
      "memory usage: 1.2+ MB\n"
     ]
    }
   ],
   "source": [
    "# DataFrame information\n",
    "df.info()"
   ]
  },
  {
   "cell_type": "markdown",
   "id": "3ee85bb7",
   "metadata": {},
   "source": [
    "# Define Hypothesis"
   ]
  },
  {
   "cell_type": "markdown",
   "id": "0adeddad",
   "metadata": {},
   "source": [
    "**Null Hypothesis**: There is no difference in retention between two groups.\n",
    "\n",
    "**Alternative Hypothesis**: There is a difference in the mean retention between the two groups."
   ]
  },
  {
   "cell_type": "markdown",
   "id": "432345f2",
   "metadata": {},
   "source": [
    "## EDA"
   ]
  },
  {
   "cell_type": "markdown",
   "id": "35a1bfe4",
   "metadata": {},
   "source": [
    "### Descriptive Statistics"
   ]
  },
  {
   "cell_type": "code",
   "execution_count": 5,
   "id": "79912088",
   "metadata": {},
   "outputs": [
    {
     "data": {
      "text/html": [
       "<div>\n",
       "<style scoped>\n",
       "    .dataframe tbody tr th:only-of-type {\n",
       "        vertical-align: middle;\n",
       "    }\n",
       "\n",
       "    .dataframe tbody tr th {\n",
       "        vertical-align: top;\n",
       "    }\n",
       "\n",
       "    .dataframe thead th {\n",
       "        text-align: right;\n",
       "    }\n",
       "</style>\n",
       "<table border=\"1\" class=\"dataframe\">\n",
       "  <thead>\n",
       "    <tr style=\"text-align: right;\">\n",
       "      <th></th>\n",
       "      <th>id</th>\n",
       "      <th>minutes_played</th>\n",
       "    </tr>\n",
       "  </thead>\n",
       "  <tbody>\n",
       "    <tr>\n",
       "      <th>count</th>\n",
       "      <td>5.000000e+04</td>\n",
       "      <td>50000.000000</td>\n",
       "    </tr>\n",
       "    <tr>\n",
       "      <th>mean</th>\n",
       "      <td>5.000967e+08</td>\n",
       "      <td>25.884040</td>\n",
       "    </tr>\n",
       "    <tr>\n",
       "      <th>std</th>\n",
       "      <td>2.894632e+08</td>\n",
       "      <td>51.130086</td>\n",
       "    </tr>\n",
       "    <tr>\n",
       "      <th>min</th>\n",
       "      <td>7.746000e+03</td>\n",
       "      <td>0.000000</td>\n",
       "    </tr>\n",
       "    <tr>\n",
       "      <th>25%</th>\n",
       "      <td>2.502251e+08</td>\n",
       "      <td>3.000000</td>\n",
       "    </tr>\n",
       "    <tr>\n",
       "      <th>50%</th>\n",
       "      <td>5.008450e+08</td>\n",
       "      <td>8.000000</td>\n",
       "    </tr>\n",
       "    <tr>\n",
       "      <th>75%</th>\n",
       "      <td>7.500803e+08</td>\n",
       "      <td>26.000000</td>\n",
       "    </tr>\n",
       "    <tr>\n",
       "      <th>max</th>\n",
       "      <td>9.999952e+08</td>\n",
       "      <td>1481.000000</td>\n",
       "    </tr>\n",
       "  </tbody>\n",
       "</table>\n",
       "</div>"
      ],
      "text/plain": [
       "                 id  minutes_played\n",
       "count  5.000000e+04    50000.000000\n",
       "mean   5.000967e+08       25.884040\n",
       "std    2.894632e+08       51.130086\n",
       "min    7.746000e+03        0.000000\n",
       "25%    2.502251e+08        3.000000\n",
       "50%    5.008450e+08        8.000000\n",
       "75%    7.500803e+08       26.000000\n",
       "max    9.999952e+08     1481.000000"
      ]
     },
     "execution_count": 5,
     "metadata": {},
     "output_type": "execute_result"
    }
   ],
   "source": [
    "df.describe()"
   ]
  },
  {
   "cell_type": "markdown",
   "id": "f584f6e2",
   "metadata": {},
   "source": [
    "The data has outliers so will need cleaning."
   ]
  },
  {
   "cell_type": "markdown",
   "id": "dc5a941d",
   "metadata": {},
   "source": [
    "### Group Comparisons"
   ]
  },
  {
   "cell_type": "code",
   "execution_count": 6,
   "id": "5241b0be",
   "metadata": {},
   "outputs": [
    {
     "name": "stdout",
     "output_type": "stream",
     "text": [
      "                  minutes_played        day1_retention day7_retention\n",
      "                            mean median           mean           mean\n",
      "team_level_access                                                    \n",
      "level_5                26.038934    9.0       0.448304       0.189176\n",
      "level_7                25.732092    8.0       0.441561       0.181537\n"
     ]
    }
   ],
   "source": [
    "grouped = df.groupby('team_level_access').agg({'minutes_played': ['mean', 'median'],\n",
    "                                               'day1_retention': 'mean',\n",
    "                                               'day7_retention': 'mean'})\n",
    "print(grouped)"
   ]
  },
  {
   "cell_type": "markdown",
   "id": "ee7587bb",
   "metadata": {},
   "source": [
    "### Distribution of Team Level Access"
   ]
  },
  {
   "cell_type": "code",
   "execution_count": 7,
   "id": "2e94f53c",
   "metadata": {},
   "outputs": [
    {
     "data": {
      "image/png": "[encoded data removed]",
      "text/plain": [
       "<Figure size 600x400 with 1 Axes>"
      ]
     },
     "metadata": {},
     "output_type": "display_data"
    }
   ],
   "source": [
    "plt.figure(figsize=(6, 4))\n",
    "sns.countplot(x='team_level_access', data=df)\n",
    "plt.title('Distribution of Team Level Access')\n",
    "plt.show();"
   ]
  },
  {
   "cell_type": "markdown",
   "id": "16a6666c",
   "metadata": {},
   "source": [
    "### Boxplot of Minutes Played by Team Level"
   ]
  },
  {
   "cell_type": "code",
   "execution_count": 8,
   "id": "e6b85c30",
   "metadata": {},
   "outputs": [
    {
     "data": {
      "image/png": "[encoded data removed]",
      "text/plain": [
       "<Figure size 600x400 with 1 Axes>"
      ]
     },
     "metadata": {},
     "output_type": "display_data"
    }
   ],
   "source": [
    "plt.figure(figsize=(6, 4))\n",
    "sns.boxplot(x='team_level_access', y='minutes_played', data=df)\n",
    "plt.title('Minutes Played by Team Level')\n",
    "plt.show();"
   ]
  },
  {
   "cell_type": "markdown",
   "id": "2c36cf78",
   "metadata": {},
   "source": [
    "### Binning the Minutes Played in to Categories"
   ]
  },
  {
   "cell_type": "code",
   "execution_count": 9,
   "id": "a69b1c65",
   "metadata": {},
   "outputs": [
    {
     "data": {
      "image/png": "[encoded data removed]",
      "text/plain": [
       "<Figure size 1200x600 with 2 Axes>"
      ]
     },
     "metadata": {},
     "output_type": "display_data"
    }
   ],
   "source": [
    "# This divides 'minutes_played' in to specified ranges to simplify analysis\n",
    "bins = [0, 60, 120, 180, 240, 300, 360]\n",
    "labels = ['0-60', '61-120', '121-180', '181-240', '241-300', '301-360']\n",
    "df['minutes_played_group'] = pd.cut(df['minutes_played'],\n",
    "                                    bins=bins,\n",
    "                                    labels=labels,\n",
    "                                    right=False)\n",
    "\n",
    "# Creating a pivot table to summarise the count of 'minutes_pplayed_group' by 'team_level_access'\n",
    "cohort_data = df.pivot_table(index='team_level_access',\n",
    "                             columns='minutes_played_group',\n",
    "                             aggfunc='size',\n",
    "                             fill_value=0)\n",
    "\n",
    "# Plotting the cohort data as a heatmap\n",
    "# This visualises the distribution of 'minutes_played_group' across 'team_level_access'\n",
    "plt.figure(figsize=(12, 6))\n",
    "sns.heatmap(cohort_data, annot=True, fmt='d', cmap='YlGnBu')\n",
    "\n",
    "# Add title and label\n",
    "plt.title('Cohort Visualisation of Minutes Played per Level Access')\n",
    "plt.xlabel('Minutes Played Group')\n",
    "plt.ylabel('Team Level Access')\n",
    "plt.show();"
   ]
  },
  {
   "cell_type": "markdown",
   "id": "51c6ef1b",
   "metadata": {},
   "source": [
    "## Outliers"
   ]
  },
  {
   "cell_type": "code",
   "execution_count": 10,
   "id": "63ab20bb",
   "metadata": {},
   "outputs": [
    {
     "data": {
      "image/png": "[encoded data removed]",
      "text/plain": [
       "<Figure size 640x480 with 1 Axes>"
      ]
     },
     "metadata": {},
     "output_type": "display_data"
    }
   ],
   "source": [
    "# Look at minutes_played\n",
    "df['minutes_played'].hist();"
   ]
  },
  {
   "cell_type": "code",
   "execution_count": 11,
   "id": "a71ec41f",
   "metadata": {},
   "outputs": [],
   "source": [
    "# Calculating Interquartile Range (IQR) for 'minutes_played'\n",
    "# This helps in identifying the range within which the central 50% of the data lies, useful for outlier detection\n",
    "Q1 = df['minutes_played'].quantile(0.25) # First quartile (25th percentile)\n",
    "Q3 = df['minutes_played'].quantile(0.75) # Third quartile (75th percentile)\n",
    "\n",
    "IQR = Q3 - Q1 # Interquartile Range"
   ]
  },
  {
   "cell_type": "code",
   "execution_count": 12,
   "id": "2e988dcc",
   "metadata": {},
   "outputs": [
    {
     "data": {
      "text/html": [
       "<div>\n",
       "<style scoped>\n",
       "    .dataframe tbody tr th:only-of-type {\n",
       "        vertical-align: middle;\n",
       "    }\n",
       "\n",
       "    .dataframe tbody tr th {\n",
       "        vertical-align: top;\n",
       "    }\n",
       "\n",
       "    .dataframe thead th {\n",
       "        text-align: right;\n",
       "    }\n",
       "</style>\n",
       "<table border=\"1\" class=\"dataframe\">\n",
       "  <thead>\n",
       "    <tr style=\"text-align: right;\">\n",
       "      <th></th>\n",
       "      <th>id</th>\n",
       "      <th>minutes_played</th>\n",
       "    </tr>\n",
       "  </thead>\n",
       "  <tbody>\n",
       "    <tr>\n",
       "      <th>count</th>\n",
       "      <td>4.431900e+04</td>\n",
       "      <td>44319.000000</td>\n",
       "    </tr>\n",
       "    <tr>\n",
       "      <th>mean</th>\n",
       "      <td>4.993766e+08</td>\n",
       "      <td>12.208240</td>\n",
       "    </tr>\n",
       "    <tr>\n",
       "      <th>std</th>\n",
       "      <td>2.893929e+08</td>\n",
       "      <td>13.750095</td>\n",
       "    </tr>\n",
       "    <tr>\n",
       "      <th>min</th>\n",
       "      <td>7.746000e+03</td>\n",
       "      <td>0.000000</td>\n",
       "    </tr>\n",
       "    <tr>\n",
       "      <th>25%</th>\n",
       "      <td>2.491266e+08</td>\n",
       "      <td>2.000000</td>\n",
       "    </tr>\n",
       "    <tr>\n",
       "      <th>50%</th>\n",
       "      <td>5.000784e+08</td>\n",
       "      <td>7.000000</td>\n",
       "    </tr>\n",
       "    <tr>\n",
       "      <th>75%</th>\n",
       "      <td>7.496319e+08</td>\n",
       "      <td>17.000000</td>\n",
       "    </tr>\n",
       "    <tr>\n",
       "      <th>max</th>\n",
       "      <td>9.999952e+08</td>\n",
       "      <td>60.000000</td>\n",
       "    </tr>\n",
       "  </tbody>\n",
       "</table>\n",
       "</div>"
      ],
      "text/plain": [
       "                 id  minutes_played\n",
       "count  4.431900e+04    44319.000000\n",
       "mean   4.993766e+08       12.208240\n",
       "std    2.893929e+08       13.750095\n",
       "min    7.746000e+03        0.000000\n",
       "25%    2.491266e+08        2.000000\n",
       "50%    5.000784e+08        7.000000\n",
       "75%    7.496319e+08       17.000000\n",
       "max    9.999952e+08       60.000000"
      ]
     },
     "execution_count": 12,
     "metadata": {},
     "output_type": "execute_result"
    }
   ],
   "source": [
    "# Defining outliers for 'minutes_played' based on the IQR method\n",
    "# Outliers are data points that fall below Q1 - 1.5 * IQR or above Q3 + 1.5 * IQR\n",
    "outliers = ((df['minutes_played'] < (Q1 - 1.5 * IQR)) | (df['minutes_played'] > (Q3 + 1.5 * IQR)))\n",
    "\n",
    "# Removing outliers from the dataset\n",
    "df_cleaned = df[~outliers]\n",
    "\n",
    "# Display summary statistics for the cleaned dataset\n",
    "# This provides an overview of the data distribution after removing outliers\n",
    "df_cleaned.describe()"
   ]
  },
  {
   "cell_type": "markdown",
   "id": "193ef9c4",
   "metadata": {},
   "source": [
    "## Randomisation"
   ]
  },
  {
   "cell_type": "markdown",
   "id": "cd44a7aa",
   "metadata": {},
   "source": [
    "### Simple Randomisation"
   ]
  },
  {
   "cell_type": "code",
   "execution_count": 13,
   "id": "1d46c11d",
   "metadata": {},
   "outputs": [
    {
     "data": {
      "text/plain": [
       "(array([0, 1]), array([233, 267]))"
      ]
     },
     "execution_count": 13,
     "metadata": {},
     "output_type": "execute_result"
    }
   ],
   "source": [
    "# Let's say '1' is for group A and '0' is for group B\n",
    "number_of_users = 500\n",
    "group_assignment = np.random.choice([0, 1],\n",
    "                                    size=number_of_users,\n",
    "                                    p=[0.5, 0.5])\n",
    "\n",
    "# Count the number of elements per group\n",
    "np.unique(group_assignment, return_counts=True)"
   ]
  },
  {
   "cell_type": "markdown",
   "id": "7882fc49",
   "metadata": {},
   "source": [
    "### Block Randomisation"
   ]
  },
  {
   "cell_type": "code",
   "execution_count": 14,
   "id": "0e2dd399",
   "metadata": {},
   "outputs": [],
   "source": [
    "from sklearn.utils import shuffle"
   ]
  },
  {
   "cell_type": "code",
   "execution_count": 15,
   "id": "ea5d5474",
   "metadata": {},
   "outputs": [
    {
     "data": {
      "text/plain": [
       "(array([0, 1]), array([250, 250]))"
      ]
     },
     "execution_count": 15,
     "metadata": {},
     "output_type": "execute_result"
    }
   ],
   "source": [
    "# Assuming that \"block_size\" is how many users we want in each group\n",
    "block_size = 50\n",
    "blocks =  [0] * block_size + [1] * block_size\n",
    "group_assignment = shuffle(blocks * int(number_of_users / (2 * block_size)))\n",
    "\n",
    "# Count the number of elements per group\n",
    "np.unique(group_assignment, return_counts=True)"
   ]
  },
  {
   "cell_type": "markdown",
   "id": "1a89009a",
   "metadata": {},
   "source": [
    "### Stratified Randomisation"
   ]
  },
  {
   "cell_type": "code",
   "execution_count": 16,
   "id": "ee884d20",
   "metadata": {},
   "outputs": [],
   "source": [
    "# Build a copy of our DataFrame\n",
    "df_stratified = df.copy()"
   ]
  },
  {
   "cell_type": "code",
   "execution_count": 17,
   "id": "1f8e9791",
   "metadata": {},
   "outputs": [
    {
     "data": {
      "text/html": [
       "<div>\n",
       "<style scoped>\n",
       "    .dataframe tbody tr th:only-of-type {\n",
       "        vertical-align: middle;\n",
       "    }\n",
       "\n",
       "    .dataframe tbody tr th {\n",
       "        vertical-align: top;\n",
       "    }\n",
       "\n",
       "    .dataframe thead th {\n",
       "        text-align: right;\n",
       "    }\n",
       "</style>\n",
       "<table border=\"1\" class=\"dataframe\">\n",
       "  <thead>\n",
       "    <tr style=\"text-align: right;\">\n",
       "      <th></th>\n",
       "      <th>id</th>\n",
       "      <th>team_level_access</th>\n",
       "      <th>minutes_played</th>\n",
       "      <th>day1_retention</th>\n",
       "      <th>day7_retention</th>\n",
       "      <th>minutes_played_group</th>\n",
       "      <th>age_group</th>\n",
       "    </tr>\n",
       "  </thead>\n",
       "  <tbody>\n",
       "    <tr>\n",
       "      <th>0</th>\n",
       "      <td>250642234</td>\n",
       "      <td>level_5</td>\n",
       "      <td>21</td>\n",
       "      <td>True</td>\n",
       "      <td>False</td>\n",
       "      <td>0-60</td>\n",
       "      <td>16-34</td>\n",
       "    </tr>\n",
       "    <tr>\n",
       "      <th>1</th>\n",
       "      <td>330729049</td>\n",
       "      <td>level_5</td>\n",
       "      <td>1</td>\n",
       "      <td>False</td>\n",
       "      <td>False</td>\n",
       "      <td>0-60</td>\n",
       "      <td>18-25</td>\n",
       "    </tr>\n",
       "    <tr>\n",
       "      <th>2</th>\n",
       "      <td>955307973</td>\n",
       "      <td>level_7</td>\n",
       "      <td>76</td>\n",
       "      <td>True</td>\n",
       "      <td>True</td>\n",
       "      <td>61-120</td>\n",
       "      <td>16-34</td>\n",
       "    </tr>\n",
       "    <tr>\n",
       "      <th>3</th>\n",
       "      <td>908651903</td>\n",
       "      <td>level_7</td>\n",
       "      <td>76</td>\n",
       "      <td>True</td>\n",
       "      <td>False</td>\n",
       "      <td>61-120</td>\n",
       "      <td>16-34</td>\n",
       "    </tr>\n",
       "    <tr>\n",
       "      <th>4</th>\n",
       "      <td>983320188</td>\n",
       "      <td>level_5</td>\n",
       "      <td>1</td>\n",
       "      <td>False</td>\n",
       "      <td>False</td>\n",
       "      <td>0-60</td>\n",
       "      <td>46-55</td>\n",
       "    </tr>\n",
       "  </tbody>\n",
       "</table>\n",
       "</div>"
      ],
      "text/plain": [
       "          id team_level_access  minutes_played  day1_retention  \\\n",
       "0  250642234           level_5              21            True   \n",
       "1  330729049           level_5               1           False   \n",
       "2  955307973           level_7              76            True   \n",
       "3  908651903           level_7              76            True   \n",
       "4  983320188           level_5               1           False   \n",
       "\n",
       "   day7_retention minutes_played_group age_group  \n",
       "0           False                 0-60     16-34  \n",
       "1           False                 0-60     18-25  \n",
       "2            True               61-120     16-34  \n",
       "3           False               61-120     16-34  \n",
       "4           False                 0-60     46-55  "
      ]
     },
     "execution_count": 17,
     "metadata": {},
     "output_type": "execute_result"
    }
   ],
   "source": [
    "# Create an age group variable\n",
    "age_groups = ['18-25', '16-34', '36-45', '46-55']\n",
    "df_stratified['age_group'] = np.random.choice(age_groups,\n",
    "                                             size=len(df_stratified),\n",
    "                                             replace=True)\n",
    "df_stratified.head()"
   ]
  },
  {
   "cell_type": "code",
   "execution_count": 18,
   "id": "d9d42a69",
   "metadata": {},
   "outputs": [],
   "source": [
    "# Build a function for stratified randomisation\n",
    "def stratified_randomisation(group):\n",
    "    # Assign 'A' or 'B' with equal probability\n",
    "    group['group_assignment'] = np.random.choice(['A', 'B'],\n",
    "                                                 size=len(group),\n",
    "                                                 p=[0.5, 0.5])\n",
    "    return group"
   ]
  },
  {
   "cell_type": "code",
   "execution_count": 19,
   "id": "6e8665c5",
   "metadata": {},
   "outputs": [
    {
     "data": {
      "text/html": [
       "<div>\n",
       "<style scoped>\n",
       "    .dataframe tbody tr th:only-of-type {\n",
       "        vertical-align: middle;\n",
       "    }\n",
       "\n",
       "    .dataframe tbody tr th {\n",
       "        vertical-align: top;\n",
       "    }\n",
       "\n",
       "    .dataframe thead th {\n",
       "        text-align: right;\n",
       "    }\n",
       "</style>\n",
       "<table border=\"1\" class=\"dataframe\">\n",
       "  <thead>\n",
       "    <tr style=\"text-align: right;\">\n",
       "      <th></th>\n",
       "      <th>id</th>\n",
       "      <th>team_level_access</th>\n",
       "      <th>minutes_played</th>\n",
       "      <th>day1_retention</th>\n",
       "      <th>day7_retention</th>\n",
       "      <th>minutes_played_group</th>\n",
       "      <th>age_group</th>\n",
       "      <th>group_assignment</th>\n",
       "    </tr>\n",
       "  </thead>\n",
       "  <tbody>\n",
       "    <tr>\n",
       "      <th>0</th>\n",
       "      <td>250642234</td>\n",
       "      <td>level_5</td>\n",
       "      <td>21</td>\n",
       "      <td>True</td>\n",
       "      <td>False</td>\n",
       "      <td>0-60</td>\n",
       "      <td>16-34</td>\n",
       "      <td>A</td>\n",
       "    </tr>\n",
       "    <tr>\n",
       "      <th>1</th>\n",
       "      <td>330729049</td>\n",
       "      <td>level_5</td>\n",
       "      <td>1</td>\n",
       "      <td>False</td>\n",
       "      <td>False</td>\n",
       "      <td>0-60</td>\n",
       "      <td>18-25</td>\n",
       "      <td>A</td>\n",
       "    </tr>\n",
       "    <tr>\n",
       "      <th>2</th>\n",
       "      <td>955307973</td>\n",
       "      <td>level_7</td>\n",
       "      <td>76</td>\n",
       "      <td>True</td>\n",
       "      <td>True</td>\n",
       "      <td>61-120</td>\n",
       "      <td>16-34</td>\n",
       "      <td>A</td>\n",
       "    </tr>\n",
       "    <tr>\n",
       "      <th>3</th>\n",
       "      <td>908651903</td>\n",
       "      <td>level_7</td>\n",
       "      <td>76</td>\n",
       "      <td>True</td>\n",
       "      <td>False</td>\n",
       "      <td>61-120</td>\n",
       "      <td>16-34</td>\n",
       "      <td>B</td>\n",
       "    </tr>\n",
       "    <tr>\n",
       "      <th>4</th>\n",
       "      <td>983320188</td>\n",
       "      <td>level_5</td>\n",
       "      <td>1</td>\n",
       "      <td>False</td>\n",
       "      <td>False</td>\n",
       "      <td>0-60</td>\n",
       "      <td>46-55</td>\n",
       "      <td>A</td>\n",
       "    </tr>\n",
       "  </tbody>\n",
       "</table>\n",
       "</div>"
      ],
      "text/plain": [
       "          id team_level_access  minutes_played  day1_retention  \\\n",
       "0  250642234           level_5              21            True   \n",
       "1  330729049           level_5               1           False   \n",
       "2  955307973           level_7              76            True   \n",
       "3  908651903           level_7              76            True   \n",
       "4  983320188           level_5               1           False   \n",
       "\n",
       "   day7_retention minutes_played_group age_group group_assignment  \n",
       "0           False                 0-60     16-34                A  \n",
       "1           False                 0-60     18-25                A  \n",
       "2            True               61-120     16-34                A  \n",
       "3           False               61-120     16-34                B  \n",
       "4           False                 0-60     46-55                A  "
      ]
     },
     "execution_count": 19,
     "metadata": {},
     "output_type": "execute_result"
    }
   ],
   "source": [
    "# Apply the function\n",
    "df_stratified = (df_stratified.groupby('age_group',\n",
    "                                      group_keys=False)\n",
    "                .apply(stratified_randomisation))\n",
    "df_stratified.head()"
   ]
  },
  {
   "cell_type": "code",
   "execution_count": 20,
   "id": "2f21e0f3",
   "metadata": {},
   "outputs": [
    {
     "data": {
      "text/plain": [
       "age_group  group_assignment\n",
       "16-34      A                   6258\n",
       "           B                   6196\n",
       "18-25      A                   6182\n",
       "           B                   6233\n",
       "36-45      A                   6228\n",
       "           B                   6317\n",
       "46-55      A                   6277\n",
       "           B                   6309\n",
       "dtype: int64"
      ]
     },
     "execution_count": 20,
     "metadata": {},
     "output_type": "execute_result"
    }
   ],
   "source": [
    "# Check the results\n",
    "df_stratified.groupby(['age_group', 'group_assignment']).size()"
   ]
  },
  {
   "cell_type": "markdown",
   "id": "b26718ce",
   "metadata": {},
   "source": [
    "### Cluster Randomisation / Geotest"
   ]
  },
  {
   "cell_type": "code",
   "execution_count": 21,
   "id": "80e6b53e",
   "metadata": {},
   "outputs": [],
   "source": [
    "# Build a copy of our DataFrame\n",
    "df_cluster = df.copy()"
   ]
  },
  {
   "cell_type": "code",
   "execution_count": 22,
   "id": "fc2c660c",
   "metadata": {},
   "outputs": [
    {
     "data": {
      "text/html": [
       "<div>\n",
       "<style scoped>\n",
       "    .dataframe tbody tr th:only-of-type {\n",
       "        vertical-align: middle;\n",
       "    }\n",
       "\n",
       "    .dataframe tbody tr th {\n",
       "        vertical-align: top;\n",
       "    }\n",
       "\n",
       "    .dataframe thead th {\n",
       "        text-align: right;\n",
       "    }\n",
       "</style>\n",
       "<table border=\"1\" class=\"dataframe\">\n",
       "  <thead>\n",
       "    <tr style=\"text-align: right;\">\n",
       "      <th></th>\n",
       "      <th>id</th>\n",
       "      <th>team_level_access</th>\n",
       "      <th>minutes_played</th>\n",
       "      <th>day1_retention</th>\n",
       "      <th>day7_retention</th>\n",
       "      <th>minutes_played_group</th>\n",
       "      <th>city</th>\n",
       "    </tr>\n",
       "  </thead>\n",
       "  <tbody>\n",
       "    <tr>\n",
       "      <th>0</th>\n",
       "      <td>250642234</td>\n",
       "      <td>level_5</td>\n",
       "      <td>21</td>\n",
       "      <td>True</td>\n",
       "      <td>False</td>\n",
       "      <td>0-60</td>\n",
       "      <td>Houston</td>\n",
       "    </tr>\n",
       "    <tr>\n",
       "      <th>1</th>\n",
       "      <td>330729049</td>\n",
       "      <td>level_5</td>\n",
       "      <td>1</td>\n",
       "      <td>False</td>\n",
       "      <td>False</td>\n",
       "      <td>0-60</td>\n",
       "      <td>Houston</td>\n",
       "    </tr>\n",
       "    <tr>\n",
       "      <th>2</th>\n",
       "      <td>955307973</td>\n",
       "      <td>level_7</td>\n",
       "      <td>76</td>\n",
       "      <td>True</td>\n",
       "      <td>True</td>\n",
       "      <td>61-120</td>\n",
       "      <td>Houston</td>\n",
       "    </tr>\n",
       "    <tr>\n",
       "      <th>3</th>\n",
       "      <td>908651903</td>\n",
       "      <td>level_7</td>\n",
       "      <td>76</td>\n",
       "      <td>True</td>\n",
       "      <td>False</td>\n",
       "      <td>61-120</td>\n",
       "      <td>Los Angeles</td>\n",
       "    </tr>\n",
       "    <tr>\n",
       "      <th>4</th>\n",
       "      <td>983320188</td>\n",
       "      <td>level_5</td>\n",
       "      <td>1</td>\n",
       "      <td>False</td>\n",
       "      <td>False</td>\n",
       "      <td>0-60</td>\n",
       "      <td>New York</td>\n",
       "    </tr>\n",
       "  </tbody>\n",
       "</table>\n",
       "</div>"
      ],
      "text/plain": [
       "          id team_level_access  minutes_played  day1_retention  \\\n",
       "0  250642234           level_5              21            True   \n",
       "1  330729049           level_5               1           False   \n",
       "2  955307973           level_7              76            True   \n",
       "3  908651903           level_7              76            True   \n",
       "4  983320188           level_5               1           False   \n",
       "\n",
       "   day7_retention minutes_played_group         city  \n",
       "0           False                 0-60      Houston  \n",
       "1           False                 0-60      Houston  \n",
       "2            True               61-120      Houston  \n",
       "3           False               61-120  Los Angeles  \n",
       "4           False                 0-60     New York  "
      ]
     },
     "execution_count": 22,
     "metadata": {},
     "output_type": "execute_result"
    }
   ],
   "source": [
    "# Create a cities group variable\n",
    "cities = ['New York', 'Los Angeles', 'Chicago', 'Houston']\n",
    "df_cluster['city'] = np.random.choice(cities,\n",
    "                                      size=len(df_cluster),\n",
    "                                      replace=True)\n",
    "df_cluster.head()"
   ]
  },
  {
   "cell_type": "code",
   "execution_count": 23,
   "id": "40def633",
   "metadata": {},
   "outputs": [],
   "source": [
    "# Create a list with two cities in each cluster\n",
    "assigned_clusters = [0, 0, 1, 1]\n",
    "np.random.shuffle(assigned_clusters)"
   ]
  },
  {
   "cell_type": "code",
   "execution_count": 24,
   "id": "9e27249c",
   "metadata": {},
   "outputs": [
    {
     "data": {
      "text/plain": [
       "{'New York': 1, 'Los Angeles': 0, 'Chicago': 0, 'Houston': 1}"
      ]
     },
     "execution_count": 24,
     "metadata": {},
     "output_type": "execute_result"
    }
   ],
   "source": [
    "# Create a dictionary to map out the city and the assigned cluster\n",
    "city_to_group = dict(zip(cities, assigned_clusters))\n",
    "city_to_group"
   ]
  },
  {
   "cell_type": "code",
   "execution_count": 25,
   "id": "c4c4f783",
   "metadata": {},
   "outputs": [
    {
     "data": {
      "text/html": [
       "<div>\n",
       "<style scoped>\n",
       "    .dataframe tbody tr th:only-of-type {\n",
       "        vertical-align: middle;\n",
       "    }\n",
       "\n",
       "    .dataframe tbody tr th {\n",
       "        vertical-align: top;\n",
       "    }\n",
       "\n",
       "    .dataframe thead th {\n",
       "        text-align: right;\n",
       "    }\n",
       "</style>\n",
       "<table border=\"1\" class=\"dataframe\">\n",
       "  <thead>\n",
       "    <tr style=\"text-align: right;\">\n",
       "      <th></th>\n",
       "      <th>id</th>\n",
       "      <th>team_level_access</th>\n",
       "      <th>minutes_played</th>\n",
       "      <th>day1_retention</th>\n",
       "      <th>day7_retention</th>\n",
       "      <th>minutes_played_group</th>\n",
       "      <th>city</th>\n",
       "      <th>cluster_group</th>\n",
       "    </tr>\n",
       "  </thead>\n",
       "  <tbody>\n",
       "    <tr>\n",
       "      <th>0</th>\n",
       "      <td>250642234</td>\n",
       "      <td>level_5</td>\n",
       "      <td>21</td>\n",
       "      <td>True</td>\n",
       "      <td>False</td>\n",
       "      <td>0-60</td>\n",
       "      <td>Houston</td>\n",
       "      <td>1</td>\n",
       "    </tr>\n",
       "    <tr>\n",
       "      <th>1</th>\n",
       "      <td>330729049</td>\n",
       "      <td>level_5</td>\n",
       "      <td>1</td>\n",
       "      <td>False</td>\n",
       "      <td>False</td>\n",
       "      <td>0-60</td>\n",
       "      <td>Houston</td>\n",
       "      <td>1</td>\n",
       "    </tr>\n",
       "    <tr>\n",
       "      <th>2</th>\n",
       "      <td>955307973</td>\n",
       "      <td>level_7</td>\n",
       "      <td>76</td>\n",
       "      <td>True</td>\n",
       "      <td>True</td>\n",
       "      <td>61-120</td>\n",
       "      <td>Houston</td>\n",
       "      <td>1</td>\n",
       "    </tr>\n",
       "    <tr>\n",
       "      <th>3</th>\n",
       "      <td>908651903</td>\n",
       "      <td>level_7</td>\n",
       "      <td>76</td>\n",
       "      <td>True</td>\n",
       "      <td>False</td>\n",
       "      <td>61-120</td>\n",
       "      <td>Los Angeles</td>\n",
       "      <td>0</td>\n",
       "    </tr>\n",
       "    <tr>\n",
       "      <th>4</th>\n",
       "      <td>983320188</td>\n",
       "      <td>level_5</td>\n",
       "      <td>1</td>\n",
       "      <td>False</td>\n",
       "      <td>False</td>\n",
       "      <td>0-60</td>\n",
       "      <td>New York</td>\n",
       "      <td>1</td>\n",
       "    </tr>\n",
       "  </tbody>\n",
       "</table>\n",
       "</div>"
      ],
      "text/plain": [
       "          id team_level_access  minutes_played  day1_retention  \\\n",
       "0  250642234           level_5              21            True   \n",
       "1  330729049           level_5               1           False   \n",
       "2  955307973           level_7              76            True   \n",
       "3  908651903           level_7              76            True   \n",
       "4  983320188           level_5               1           False   \n",
       "\n",
       "   day7_retention minutes_played_group         city  cluster_group  \n",
       "0           False                 0-60      Houston              1  \n",
       "1           False                 0-60      Houston              1  \n",
       "2            True               61-120      Houston              1  \n",
       "3           False               61-120  Los Angeles              0  \n",
       "4           False                 0-60     New York              1  "
      ]
     },
     "execution_count": 25,
     "metadata": {},
     "output_type": "execute_result"
    }
   ],
   "source": [
    "# Create the cluster group variable\n",
    "df_cluster['cluster_group'] = df_cluster['city'].map(city_to_group)\n",
    "df_cluster.head()"
   ]
  },
  {
   "cell_type": "code",
   "execution_count": 26,
   "id": "c7801eea",
   "metadata": {},
   "outputs": [
    {
     "data": {
      "text/plain": [
       "city         cluster_group\n",
       "Chicago      0                12217\n",
       "Houston      1                12574\n",
       "Los Angeles  0                12522\n",
       "New York     1                12687\n",
       "dtype: int64"
      ]
     },
     "execution_count": 26,
     "metadata": {},
     "output_type": "execute_result"
    }
   ],
   "source": [
    "# Check the results\n",
    "df_cluster.groupby(['city', 'cluster_group']).size()"
   ]
  },
  {
   "cell_type": "markdown",
   "id": "36c64cc8",
   "metadata": {},
   "source": [
    "# Sample Size Calculation"
   ]
  },
  {
   "cell_type": "code",
   "execution_count": 27,
   "id": "c97fba38",
   "metadata": {},
   "outputs": [],
   "source": [
    "# Settings\n",
    "alpha = 0.05\n",
    "power = 0.8\n",
    "# Minimum dedectable effect\n",
    "mde = 0.05"
   ]
  },
  {
   "cell_type": "markdown",
   "id": "67b0e80e",
   "metadata": {},
   "source": [
    "## Sample Size Calculation for Proportions"
   ]
  },
  {
   "cell_type": "code",
   "execution_count": 28,
   "id": "6b636a59",
   "metadata": {},
   "outputs": [
    {
     "name": "stdout",
     "output_type": "stream",
     "text": [
      "The Baseline Retention is 0.11644772851669404\n"
     ]
    }
   ],
   "source": [
    "# Computing the baseline percentage\n",
    "baseline_retention = df_cleaned[df_cleaned['team_level_access'] == 'level_5']['day7_retention'].mean()\n",
    "print(f'The Baseline Retention is {baseline_retention}')"
   ]
  },
  {
   "cell_type": "code",
   "execution_count": 29,
   "id": "f527ab3b",
   "metadata": {},
   "outputs": [],
   "source": [
    "# Calculate the effect size\n",
    "effect_size = sm.stats.proportion_effectsize(baseline_retention,\n",
    "                                             baseline_retention + mde)"
   ]
  },
  {
   "cell_type": "code",
   "execution_count": 30,
   "id": "2f9007bf",
   "metadata": {},
   "outputs": [
    {
     "name": "stdout",
     "output_type": "stream",
     "text": [
      "The Sample Size per group is 757\n"
     ]
    }
   ],
   "source": [
    "# Initiate the power analysis\n",
    "power_analysis = sm.stats.NormalIndPower()\n",
    "sample_size_discrete = power_analysis.solve_power(effect_size=effect_size,\n",
    "                                                  power=power,\n",
    "                                                  alpha=alpha,\n",
    "                                                  ratio=1.0)\n",
    "print(f\"The Sample Size per group is {round(sample_size_discrete)}\")"
   ]
  },
  {
   "cell_type": "markdown",
   "id": "a24052f3",
   "metadata": {},
   "source": [
    "### Sample Size for Continuous Outcomes"
   ]
  },
  {
   "cell_type": "code",
   "execution_count": 31,
   "id": "0ab66008",
   "metadata": {},
   "outputs": [
    {
     "name": "stdout",
     "output_type": "stream",
     "text": [
      "The Baseline Minutes is 12.262953840540048\n",
      "The Baseline Variability is 13.6339887214411\n"
     ]
    }
   ],
   "source": [
    "# Computing the Baseline minutes\n",
    "baseline_minutes = df_cleaned[df_cleaned['team_level_access'] == 'level_5']['minutes_played'].mean()\n",
    "print(f\"The Baseline Minutes is {baseline_minutes}\")\n",
    "\n",
    "# Baseline variablity\n",
    "baseline_sigma = df_cleaned[df_cleaned['team_level_access'] == 'level_5']['minutes_played'].std()\n",
    "print(f\"The Baseline Variability is {baseline_sigma}\")"
   ]
  },
  {
   "cell_type": "code",
   "execution_count": 32,
   "id": "913cc169",
   "metadata": {},
   "outputs": [
    {
     "name": "stdout",
     "output_type": "stream",
     "text": [
      "The effect size is 0.0449719964241098\n"
     ]
    }
   ],
   "source": [
    "# Compute the effect size\n",
    "effect_size = mde * baseline_minutes / baseline_sigma\n",
    "print(f\"The effect size is {effect_size}\")"
   ]
  },
  {
   "cell_type": "code",
   "execution_count": 33,
   "id": "0605679a",
   "metadata": {},
   "outputs": [],
   "source": [
    "# Alpha and beta\n",
    "Zalpha = stats.norm.ppf(1 - alpha / 2)\n",
    "Zbeta = stats.norm.ppf(power)"
   ]
  },
  {
   "cell_type": "code",
   "execution_count": 34,
   "id": "1374aa37",
   "metadata": {},
   "outputs": [
    {
     "name": "stdout",
     "output_type": "stream",
     "text": [
      "The Sample Size per group is 721388\n"
     ]
    }
   ],
   "source": [
    "# Calculate the sample size\n",
    "sample_size_continuous = ((Zalpha + Zbeta) ** 2 * (baseline_sigma ** 2)) / (effect_size ** 2)\n",
    "print(f\"The Sample Size per group is {sample_size_continuous:.0f}\")"
   ]
  },
  {
   "cell_type": "markdown",
   "id": "3ab46dd4",
   "metadata": {},
   "source": [
    "### What if we don't clean the outliers?"
   ]
  },
  {
   "cell_type": "code",
   "execution_count": 35,
   "id": "86a47b4a",
   "metadata": {},
   "outputs": [
    {
     "name": "stdout",
     "output_type": "stream",
     "text": [
      "The Baseline Minutes is 26.038933764135702\n",
      "The Baseline Variability is 50.95305446540207\n"
     ]
    }
   ],
   "source": [
    " # Computing the Baseline minutes\n",
    "baseline_minutes = df[df['team_level_access'] == 'level_5']['minutes_played'].mean()\n",
    "print(f\"The Baseline Minutes is {baseline_minutes}\")\n",
    "\n",
    "# Baseline variablity\n",
    "baseline_sigma = df[df['team_level_access'] == 'level_5']['minutes_played'].std()\n",
    "print(f\"The Baseline Variability is {baseline_sigma}\")"
   ]
  },
  {
   "cell_type": "code",
   "execution_count": 36,
   "id": "428d8014",
   "metadata": {},
   "outputs": [
    {
     "name": "stdout",
     "output_type": "stream",
     "text": [
      "The effect size is 0.025551886964712344\n"
     ]
    }
   ],
   "source": [
    "# Compute the effect size\n",
    "effect_size = mde * baseline_minutes / baseline_sigma\n",
    "print(f\"The effect size is {effect_size}\")"
   ]
  },
  {
   "cell_type": "code",
   "execution_count": 37,
   "id": "c7e20c77",
   "metadata": {},
   "outputs": [],
   "source": [
    "# Alpha and beta\n",
    "Zalpha = stats.norm.ppf(1 - alpha / 2)\n",
    "Zbeta = stats.norm.ppf(power)"
   ]
  },
  {
   "cell_type": "code",
   "execution_count": 38,
   "id": "18bcb761",
   "metadata": {},
   "outputs": [
    {
     "name": "stdout",
     "output_type": "stream",
     "text": [
      "The Sample Size per group is 31210604\n"
     ]
    }
   ],
   "source": [
    "# Calculate the sample size\n",
    "sample_size_continuous = ((Zalpha + Zbeta) ** 2 * (baseline_sigma ** 2)) / (effect_size ** 2)\n",
    "print(f\"The Sample Size per group is {sample_size_continuous:.0f}\")"
   ]
  },
  {
   "cell_type": "markdown",
   "id": "2675211d",
   "metadata": {},
   "source": [
    "#### Tips\n",
    "\n",
    "* Always clean outliers for A/B Testing\n",
    "* Choose the proportion as the main outcome KPI and the continuous as secondary"
   ]
  },
  {
   "cell_type": "markdown",
   "id": "f8b388b4",
   "metadata": {},
   "source": [
    "# Post Analysis"
   ]
  },
  {
   "cell_type": "markdown",
   "id": "86c87621",
   "metadata": {},
   "source": [
    "### Post Analysis for Retention with Calculated Sample Size"
   ]
  },
  {
   "cell_type": "code",
   "execution_count": 39,
   "id": "1439c5d9",
   "metadata": {},
   "outputs": [],
   "source": [
    "# Sampling\n",
    "N = int(sample_size_discrete)\n",
    "sample5 = df_cleaned[df_cleaned['team_level_access'] == 'level_5'].sample(n=N,\n",
    "                                                                          random_state=1502)\n",
    "\n",
    "sample7 = df_cleaned[df_cleaned['team_level_access'] == 'level_7'].sample(n=N,\n",
    "                                                                          random_state=1502)"
   ]
  },
  {
   "cell_type": "code",
   "execution_count": 40,
   "id": "0ce510ca",
   "metadata": {},
   "outputs": [],
   "source": [
    "# Calculating the number of successes and trials\n",
    "n_5 = sample5['day7_retention'].count()\n",
    "n_7 = sample7['day7_retention'].count()\n",
    "successes_5 = sample5['day7_retention'].sum()\n",
    "successes_7 = sample7['day7_retention'].sum()"
   ]
  },
  {
   "cell_type": "code",
   "execution_count": 41,
   "id": "823e4563",
   "metadata": {},
   "outputs": [
    {
     "name": "stdout",
     "output_type": "stream",
     "text": [
      "The retention rate for Level 5 is 0.11624834874504623\n",
      "The retention rate for Level 7 is 0.10303830911492734\n"
     ]
    }
   ],
   "source": [
    "# Compute the level access retention rate\n",
    "rr_5 = successes_5 / n_5\n",
    "rr_7 = successes_7 / n_7\n",
    "print(f\"The retention rate for Level 5 is {rr_5}\")\n",
    "print(f\"The retention rate for Level 7 is {rr_7}\")"
   ]
  },
  {
   "cell_type": "code",
   "execution_count": 42,
   "id": "ffae3082",
   "metadata": {},
   "outputs": [
    {
     "name": "stdout",
     "output_type": "stream",
     "text": [
      "p-value (0.4107621742385773) is greater than or equal to the threshold (0.05).\n",
      "Not enough evidence to reject the null hypothesis.\n"
     ]
    }
   ],
   "source": [
    "# Proportions Test\n",
    "import statsmodels.stats.proportion as proportion\n",
    "z_value, p_value = proportion.proportions_ztest([successes_5, successes_7],\n",
    "                                                [n_5, n_7],\n",
    "                                                alternative='two-sided')\n",
    "interpret_p_value(p_value, threshold=0.05)"
   ]
  },
  {
   "cell_type": "markdown",
   "id": "faf1e5b2",
   "metadata": {},
   "source": [
    "### Post Analysis for Retention with the Complete Data"
   ]
  },
  {
   "cell_type": "code",
   "execution_count": 43,
   "id": "7e960389",
   "metadata": {},
   "outputs": [],
   "source": [
    "# Sampling\n",
    "N = int(sample_size_discrete)\n",
    "sample5 = df_cleaned[df_cleaned['team_level_access'] == 'level_5']\n",
    "\n",
    "sample7 = df_cleaned[df_cleaned['team_level_access'] == 'level_7']"
   ]
  },
  {
   "cell_type": "code",
   "execution_count": 44,
   "id": "ab5bea64",
   "metadata": {},
   "outputs": [],
   "source": [
    "# Calculating the number of successes and trials\n",
    "n_5 = sample5['day7_retention'].count()\n",
    "n_7 = sample7['day7_retention'].count()\n",
    "successes_5 = sample5['day7_retention'].sum()\n",
    "successes_7 = sample7['day7_retention'].sum()"
   ]
  },
  {
   "cell_type": "code",
   "execution_count": 45,
   "id": "eafbbbfe",
   "metadata": {},
   "outputs": [
    {
     "name": "stdout",
     "output_type": "stream",
     "text": [
      "The retention rate for Level 5 is 0.11644772851669404\n",
      "The retention rate for Level 7 is 0.10877427997320831\n"
     ]
    }
   ],
   "source": [
    "# Compute the level access retention rate\n",
    "rr_5 = successes_5 / n_5\n",
    "rr_7 = successes_7 / n_7\n",
    "print(f\"The retention rate for Level 5 is {rr_5}\")\n",
    "print(f\"The retention rate for Level 7 is {rr_7}\")"
   ]
  },
  {
   "cell_type": "code",
   "execution_count": 46,
   "id": "6fc2a42b",
   "metadata": {},
   "outputs": [
    {
     "name": "stdout",
     "output_type": "stream",
     "text": [
      "p-value (0.010607771169938515) is less than the threshold (0.05).\n",
      "Evidence suggests rejecting the null hypothesis.\n"
     ]
    }
   ],
   "source": [
    "# Proportions Test\n",
    "import statsmodels.stats.proportion as proportion\n",
    "z_value, p_value = proportion.proportions_ztest([successes_5, successes_7],\n",
    "                                                [n_5, n_7],\n",
    "                                                alternative='two-sided')\n",
    "interpret_p_value(p_value, threshold=0.05)"
   ]
  },
  {
   "cell_type": "markdown",
   "id": "a4195546",
   "metadata": {},
   "source": [
    "### Post Analysis for Minutes Played"
   ]
  },
  {
   "cell_type": "code",
   "execution_count": 47,
   "id": "6d97fcf1",
   "metadata": {},
   "outputs": [],
   "source": [
    "# Prepare the inputs\n",
    "minutes5 = df_cleaned[df_cleaned['team_level_access'] == 'level_5']['minutes_played']\n",
    "minutes7 = df_cleaned[df_cleaned['team_level_access'] == 'level_7']['minutes_played']"
   ]
  },
  {
   "cell_type": "code",
   "execution_count": 48,
   "id": "fecc071d",
   "metadata": {},
   "outputs": [
    {
     "name": "stdout",
     "output_type": "stream",
     "text": [
      "p-value (0.40720311949312926) is greater than or equal to the threshold (0.05).\n",
      "Not enough evidence to reject the null hypothesis.\n"
     ]
    }
   ],
   "source": [
    "# 2 Sample T-Test\n",
    "t_statistic, p_value = stats.ttest_ind(minutes5,\n",
    "                                       minutes7,\n",
    "                                       alternative='two-sided')\n",
    "interpret_p_value(p_value, threshold=0.05)"
   ]
  },
  {
   "cell_type": "code",
   "execution_count": null,
   "id": "b4b3ef20",
   "metadata": {},
   "outputs": [],
   "source": []
  }
 ],
 "metadata": {
  "kernelspec": {
   "display_name": "Python 3 (ipykernel)",
   "language": "python",
   "name": "python3"
  },
  "language_info": {
   "codemirror_mode": {
    "name": "ipython",
    "version": 3
   },
   "file_extension": ".py",
   "mimetype": "text/x-python",
   "name": "python",
   "nbconvert_exporter": "python",
   "pygments_lexer": "ipython3",
   "version": "3.11.3"
  }
 },
 "nbformat": 4,
 "nbformat_minor": 5
}
